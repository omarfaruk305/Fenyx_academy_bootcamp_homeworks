{
  "nbformat": 4,
  "nbformat_minor": 0,
  "metadata": {
    "colab": {
      "name": "DataVisualization.ipynb",
      "provenance": []
    },
    "kernelspec": {
      "name": "python3",
      "display_name": "Python 3"
    },
    "language_info": {
      "name": "python"
    }
  },
  "cells": [
    {
      "cell_type": "code",
      "execution_count": null,
      "metadata": {
        "id": "fY6AMQHCtl_q"
      },
      "outputs": [],
      "source": [
        ""
      ]
    },
    {
      "cell_type": "code",
      "source": [
        "import pandas as pd\n",
        "import numpy as np\n",
        "import seaborn as sns\n",
        "import matplotlib.pyplot as plt\n",
        "import re\n",
        "import warnings\n",
        "import datetime\n",
        "warnings.filterwarnings('ignore')\n",
        "warnings.warn('this will not show')\n",
        "sns.set(style='darkgrid')\n",
        "%matplotlib inline"
      ],
      "metadata": {
        "id": "ycVl35vVtx-V"
      },
      "execution_count": 3,
      "outputs": []
    },
    {
      "cell_type": "code",
      "source": [
        "from google.colab import drive\n",
        "drive.mount('/content/drive')"
      ],
      "metadata": {
        "colab": {
          "base_uri": "https://localhost:8080/"
        },
        "id": "ILDnawoxtzzV",
        "outputId": "e09fec95-471f-447b-fa2a-f3031393cfa9"
      },
      "execution_count": 4,
      "outputs": [
        {
          "output_type": "stream",
          "name": "stdout",
          "text": [
            "Mounted at /content/drive\n"
          ]
        }
      ]
    },
    {
      "cell_type": "code",
      "source": [
        "data = pd.read_pickle('/content/drive/MyDrive/Colab Notebooks/withoutNAN.pickle')"
      ],
      "metadata": {
        "id": "5vvU9D5nt1eN"
      },
      "execution_count": 41,
      "outputs": []
    },
    {
      "cell_type": "code",
      "source": [
        "df=data.copy()"
      ],
      "metadata": {
        "id": "_rTGPkcct2VV"
      },
      "execution_count": 42,
      "outputs": []
    },
    {
      "cell_type": "code",
      "source": [
        "pd.set_option('display.max_columns', None)"
      ],
      "metadata": {
        "id": "R4ZgirsuL6If"
      },
      "execution_count": 51,
      "outputs": []
    },
    {
      "cell_type": "code",
      "source": [
        "df"
      ],
      "metadata": {
        "colab": {
          "base_uri": "https://localhost:8080/",
          "height": 1000
        },
        "id": "T8wPtXU6t5gF",
        "outputId": "66e8e454-e990-4725-8193-3dc01b1bcd3c"
      },
      "execution_count": 52,
      "outputs": [
        {
          "output_type": "execute_result",
          "data": {
            "text/plain": [
              "            province   make make_model  price body_type  registration  \\\n",
              "0      North Brabant   Audi    Audi_A3   4450   Compact          2003   \n",
              "1            Limburg   Audi    Audi_A3  12950   Compact          2013   \n",
              "2      North Brabant   Audi    Audi_A3  12445   Compact          2013   \n",
              "3      North Brabant   Audi    Audi_A1  12450   Compact          2015   \n",
              "4         Gelderland   Audi    Audi_A1  14945   Compact          2015   \n",
              "...              ...    ...        ...    ...       ...           ...   \n",
              "69506  South Holland  Volvo  Volvo_S60   1999     Sedan          2005   \n",
              "69507      Friesland  Volvo  Volvo_S60   3950     Sedan          2005   \n",
              "69508      Flevoland  Volvo  Volvo_S60   3449     Sedan          2004   \n",
              "69509  North Holland  Volvo  Volvo_S40   1650     Sedan          2004   \n",
              "69510        Utrecht  Volvo  Volvo_S60    944     Sedan          2001   \n",
              "\n",
              "       vehicle_age  mileage    Gearbox  gears          seller colour  \\\n",
              "0               19   191066  Automatic      7          Dealer   Grey   \n",
              "1                9    94758  Automatic      7          Dealer  White   \n",
              "2                9   160883  Automatic      7          Dealer  Black   \n",
              "3                7   145102  Automatic      7          Dealer   Grey   \n",
              "4                7   119666  Automatic      7          Dealer  Black   \n",
              "...            ...      ...        ...    ...             ...    ...   \n",
              "69506           17   442713     Manual      5          Dealer   Blue   \n",
              "69507           17   251723     Manual      5          Dealer   Blue   \n",
              "69508           18   340257     Manual      5          Dealer  Black   \n",
              "69509           18   399990     Manual      5  Private seller  Beige   \n",
              "69510           21   404758     Manual      5          Dealer   Grey   \n",
              "\n",
              "       power(kW)  cylinders drivetrain  type full_service_history fuel_type  \\\n",
              "0            110          4      Front  Used                  Yes  Gasoline   \n",
              "1             92          4      Front  Used                  Yes  Gasoline   \n",
              "2             90          4      Front  Used                   No  Gasoline   \n",
              "3             92          4      Front  Used                  Yes  Gasoline   \n",
              "4             92          4      Front  Used                  Yes  Gasoline   \n",
              "...          ...        ...        ...   ...                  ...       ...   \n",
              "69506        103          5      Front  Used                  Yes       LPG   \n",
              "69507        103          5      Front  Used                   No       CNG   \n",
              "69508        132          5      Front  Used                  Yes       LPG   \n",
              "69509        103          5      Front  Used                   No       LPG   \n",
              "69510        104          5      Front  Used                   No       LPG   \n",
              "\n",
              "       combination(L/100Km)  city(L/100Km)  country(L/100Km)  \\\n",
              "0                         5              6                 4   \n",
              "1                         4              6                 4   \n",
              "2                         5              6                 4   \n",
              "3                         5              6                 4   \n",
              "4                         4              5                 4   \n",
              "...                     ...            ...               ...   \n",
              "69506                     9             13                 7   \n",
              "69507                     8             12                 6   \n",
              "69508                     9             12                 7   \n",
              "69509                     8             12                 6   \n",
              "69510                     8             11                 6   \n",
              "\n",
              "      non_smoker_vehicle  empty_weight  co2_emissions  emission_class(Euro)  \\\n",
              "0                     No          1280            119                     4   \n",
              "1                     No          1200            119                     5   \n",
              "2                     No          1200            116                     5   \n",
              "3                    Yes          1085            118                     6   \n",
              "4                     No          1105            111                     6   \n",
              "...                  ...           ...            ...                   ...   \n",
              "69506                 No          1441            225                     4   \n",
              "69507                 No          1489            159                     4   \n",
              "69508                 No          1495            215                     3   \n",
              "69509                 No          1290            199                     4   \n",
              "69510                 No          1488            207                     3   \n",
              "\n",
              "       seats  warranty_months  engine_size upholstery_colour  doors  \\\n",
              "0          5                6         1984             Black      3   \n",
              "1          5                0         1395             Black      5   \n",
              "2          5                0         1395             Black      5   \n",
              "3          5                6         1395             Black      5   \n",
              "4          4                6         1395             Black      3   \n",
              "...      ...              ...          ...               ...    ...   \n",
              "69506      5                0         2435             Beige      4   \n",
              "69507      5                0         2435             Beige      4   \n",
              "69508      5                0         1984             Beige      4   \n",
              "69509      5                0         2435             Beige      4   \n",
              "69510      5                0         2435             Beige      4   \n",
              "\n",
              "         upholstery                              Entertainment & Media  \\\n",
              "0             Cloth                                   CD player, Radio   \n",
              "1             Cloth                                   CD player, Radio   \n",
              "2             Cloth  Bluetooth, CD player, Hands-free equipment, MP...   \n",
              "3      Part leather       Bluetooth, CD player, On-board computer, USB   \n",
              "4      Part leather           CD player, MP3, On-board computer, Radio   \n",
              "...             ...                                                ...   \n",
              "69506  Part leather                CD player, On-board computer, Radio   \n",
              "69507  Full leather                                              Radio   \n",
              "69508  Part leather                                  On-board computer   \n",
              "69509        Velour                CD player, On-board computer, Radio   \n",
              "69510  Part leather                           On-board computer, Radio   \n",
              "\n",
              "                                   Comfort & Convenience  \\\n",
              "0      Air conditioning, Armrest, Automatic climate c...   \n",
              "1      Air conditioning, Automatic climate control, E...   \n",
              "2      Air conditioning, Armrest, Cruise control, Ele...   \n",
              "3      Air conditioning, Armrest, Automatic climate c...   \n",
              "4      Air conditioning, Armrest, Automatic climate c...   \n",
              "...                                                  ...   \n",
              "69506  Air conditioning, Automatic climate control, C...   \n",
              "69507  Air conditioning, Automatic climate control, C...   \n",
              "69508  Air conditioning, Armrest, Automatic climate c...   \n",
              "69509  Air conditioning, Armrest, Automatic climate c...   \n",
              "69510  Air conditioning, Armrest, Automatic climate c...   \n",
              "\n",
              "                                                  Safety  \\\n",
              "0      [['ABS', 'Alarm system', 'Central door lock', ...   \n",
              "1      [['Alarm system', 'Central door lock', 'Centra...   \n",
              "2      [['ABS', 'Central door lock', 'Central door lo...   \n",
              "3      [['ABS', 'Central door lock with remote contro...   \n",
              "4      [['ABS', 'Alarm system', 'Bi-Xenon headlights'...   \n",
              "...                                                  ...   \n",
              "69506  [['ABS', 'Central door lock', 'Central door lo...   \n",
              "69507  [['ABS', 'Alarm system', 'Central door lock', ...   \n",
              "69508  [['ABS', 'Central door lock', 'Central door lo...   \n",
              "69509  [['ABS', 'Central door lock with remote contro...   \n",
              "69510  [['ABS', 'Alarm system', 'Central door lock', ...   \n",
              "\n",
              "                                                  extras  general_inspection  \n",
              "0                                           Alloy wheels                True  \n",
              "1                                           Alloy wheels               False  \n",
              "2                                   Alloy wheels,Spoiler                True  \n",
              "3                                           Alloy wheels                True  \n",
              "4      Alloy wheels,Shift paddles,Sport seats,Sport s...               False  \n",
              "...                                                  ...                 ...  \n",
              "69506                                       Alloy wheels                True  \n",
              "69507                                       Alloy wheels                True  \n",
              "69508  Alloy wheels,Automatically dimming interior mi...                True  \n",
              "69509  Alloy wheels,Automatically dimming interior mi...               False  \n",
              "69510                                       Alloy wheels               False  \n",
              "\n",
              "[69511 rows x 36 columns]"
            ],
            "text/html": [
              "\n",
              "  <div id=\"df-59708dba-6f7c-4829-b41c-86539eadf2d9\">\n",
              "    <div class=\"colab-df-container\">\n",
              "      <div>\n",
              "<style scoped>\n",
              "    .dataframe tbody tr th:only-of-type {\n",
              "        vertical-align: middle;\n",
              "    }\n",
              "\n",
              "    .dataframe tbody tr th {\n",
              "        vertical-align: top;\n",
              "    }\n",
              "\n",
              "    .dataframe thead th {\n",
              "        text-align: right;\n",
              "    }\n",
              "</style>\n",
              "<table border=\"1\" class=\"dataframe\">\n",
              "  <thead>\n",
              "    <tr style=\"text-align: right;\">\n",
              "      <th></th>\n",
              "      <th>province</th>\n",
              "      <th>make</th>\n",
              "      <th>make_model</th>\n",
              "      <th>price</th>\n",
              "      <th>body_type</th>\n",
              "      <th>registration</th>\n",
              "      <th>vehicle_age</th>\n",
              "      <th>mileage</th>\n",
              "      <th>Gearbox</th>\n",
              "      <th>gears</th>\n",
              "      <th>seller</th>\n",
              "      <th>colour</th>\n",
              "      <th>power(kW)</th>\n",
              "      <th>cylinders</th>\n",
              "      <th>drivetrain</th>\n",
              "      <th>type</th>\n",
              "      <th>full_service_history</th>\n",
              "      <th>fuel_type</th>\n",
              "      <th>combination(L/100Km)</th>\n",
              "      <th>city(L/100Km)</th>\n",
              "      <th>country(L/100Km)</th>\n",
              "      <th>non_smoker_vehicle</th>\n",
              "      <th>empty_weight</th>\n",
              "      <th>co2_emissions</th>\n",
              "      <th>emission_class(Euro)</th>\n",
              "      <th>seats</th>\n",
              "      <th>warranty_months</th>\n",
              "      <th>engine_size</th>\n",
              "      <th>upholstery_colour</th>\n",
              "      <th>doors</th>\n",
              "      <th>upholstery</th>\n",
              "      <th>Entertainment &amp; Media</th>\n",
              "      <th>Comfort &amp; Convenience</th>\n",
              "      <th>Safety</th>\n",
              "      <th>extras</th>\n",
              "      <th>general_inspection</th>\n",
              "    </tr>\n",
              "  </thead>\n",
              "  <tbody>\n",
              "    <tr>\n",
              "      <th>0</th>\n",
              "      <td>North Brabant</td>\n",
              "      <td>Audi</td>\n",
              "      <td>Audi_A3</td>\n",
              "      <td>4450</td>\n",
              "      <td>Compact</td>\n",
              "      <td>2003</td>\n",
              "      <td>19</td>\n",
              "      <td>191066</td>\n",
              "      <td>Automatic</td>\n",
              "      <td>7</td>\n",
              "      <td>Dealer</td>\n",
              "      <td>Grey</td>\n",
              "      <td>110</td>\n",
              "      <td>4</td>\n",
              "      <td>Front</td>\n",
              "      <td>Used</td>\n",
              "      <td>Yes</td>\n",
              "      <td>Gasoline</td>\n",
              "      <td>5</td>\n",
              "      <td>6</td>\n",
              "      <td>4</td>\n",
              "      <td>No</td>\n",
              "      <td>1280</td>\n",
              "      <td>119</td>\n",
              "      <td>4</td>\n",
              "      <td>5</td>\n",
              "      <td>6</td>\n",
              "      <td>1984</td>\n",
              "      <td>Black</td>\n",
              "      <td>3</td>\n",
              "      <td>Cloth</td>\n",
              "      <td>CD player, Radio</td>\n",
              "      <td>Air conditioning, Armrest, Automatic climate c...</td>\n",
              "      <td>[['ABS', 'Alarm system', 'Central door lock', ...</td>\n",
              "      <td>Alloy wheels</td>\n",
              "      <td>True</td>\n",
              "    </tr>\n",
              "    <tr>\n",
              "      <th>1</th>\n",
              "      <td>Limburg</td>\n",
              "      <td>Audi</td>\n",
              "      <td>Audi_A3</td>\n",
              "      <td>12950</td>\n",
              "      <td>Compact</td>\n",
              "      <td>2013</td>\n",
              "      <td>9</td>\n",
              "      <td>94758</td>\n",
              "      <td>Automatic</td>\n",
              "      <td>7</td>\n",
              "      <td>Dealer</td>\n",
              "      <td>White</td>\n",
              "      <td>92</td>\n",
              "      <td>4</td>\n",
              "      <td>Front</td>\n",
              "      <td>Used</td>\n",
              "      <td>Yes</td>\n",
              "      <td>Gasoline</td>\n",
              "      <td>4</td>\n",
              "      <td>6</td>\n",
              "      <td>4</td>\n",
              "      <td>No</td>\n",
              "      <td>1200</td>\n",
              "      <td>119</td>\n",
              "      <td>5</td>\n",
              "      <td>5</td>\n",
              "      <td>0</td>\n",
              "      <td>1395</td>\n",
              "      <td>Black</td>\n",
              "      <td>5</td>\n",
              "      <td>Cloth</td>\n",
              "      <td>CD player, Radio</td>\n",
              "      <td>Air conditioning, Automatic climate control, E...</td>\n",
              "      <td>[['Alarm system', 'Central door lock', 'Centra...</td>\n",
              "      <td>Alloy wheels</td>\n",
              "      <td>False</td>\n",
              "    </tr>\n",
              "    <tr>\n",
              "      <th>2</th>\n",
              "      <td>North Brabant</td>\n",
              "      <td>Audi</td>\n",
              "      <td>Audi_A3</td>\n",
              "      <td>12445</td>\n",
              "      <td>Compact</td>\n",
              "      <td>2013</td>\n",
              "      <td>9</td>\n",
              "      <td>160883</td>\n",
              "      <td>Automatic</td>\n",
              "      <td>7</td>\n",
              "      <td>Dealer</td>\n",
              "      <td>Black</td>\n",
              "      <td>90</td>\n",
              "      <td>4</td>\n",
              "      <td>Front</td>\n",
              "      <td>Used</td>\n",
              "      <td>No</td>\n",
              "      <td>Gasoline</td>\n",
              "      <td>5</td>\n",
              "      <td>6</td>\n",
              "      <td>4</td>\n",
              "      <td>No</td>\n",
              "      <td>1200</td>\n",
              "      <td>116</td>\n",
              "      <td>5</td>\n",
              "      <td>5</td>\n",
              "      <td>0</td>\n",
              "      <td>1395</td>\n",
              "      <td>Black</td>\n",
              "      <td>5</td>\n",
              "      <td>Cloth</td>\n",
              "      <td>Bluetooth, CD player, Hands-free equipment, MP...</td>\n",
              "      <td>Air conditioning, Armrest, Cruise control, Ele...</td>\n",
              "      <td>[['ABS', 'Central door lock', 'Central door lo...</td>\n",
              "      <td>Alloy wheels,Spoiler</td>\n",
              "      <td>True</td>\n",
              "    </tr>\n",
              "    <tr>\n",
              "      <th>3</th>\n",
              "      <td>North Brabant</td>\n",
              "      <td>Audi</td>\n",
              "      <td>Audi_A1</td>\n",
              "      <td>12450</td>\n",
              "      <td>Compact</td>\n",
              "      <td>2015</td>\n",
              "      <td>7</td>\n",
              "      <td>145102</td>\n",
              "      <td>Automatic</td>\n",
              "      <td>7</td>\n",
              "      <td>Dealer</td>\n",
              "      <td>Grey</td>\n",
              "      <td>92</td>\n",
              "      <td>4</td>\n",
              "      <td>Front</td>\n",
              "      <td>Used</td>\n",
              "      <td>Yes</td>\n",
              "      <td>Gasoline</td>\n",
              "      <td>5</td>\n",
              "      <td>6</td>\n",
              "      <td>4</td>\n",
              "      <td>Yes</td>\n",
              "      <td>1085</td>\n",
              "      <td>118</td>\n",
              "      <td>6</td>\n",
              "      <td>5</td>\n",
              "      <td>6</td>\n",
              "      <td>1395</td>\n",
              "      <td>Black</td>\n",
              "      <td>5</td>\n",
              "      <td>Part leather</td>\n",
              "      <td>Bluetooth, CD player, On-board computer, USB</td>\n",
              "      <td>Air conditioning, Armrest, Automatic climate c...</td>\n",
              "      <td>[['ABS', 'Central door lock with remote contro...</td>\n",
              "      <td>Alloy wheels</td>\n",
              "      <td>True</td>\n",
              "    </tr>\n",
              "    <tr>\n",
              "      <th>4</th>\n",
              "      <td>Gelderland</td>\n",
              "      <td>Audi</td>\n",
              "      <td>Audi_A1</td>\n",
              "      <td>14945</td>\n",
              "      <td>Compact</td>\n",
              "      <td>2015</td>\n",
              "      <td>7</td>\n",
              "      <td>119666</td>\n",
              "      <td>Automatic</td>\n",
              "      <td>7</td>\n",
              "      <td>Dealer</td>\n",
              "      <td>Black</td>\n",
              "      <td>92</td>\n",
              "      <td>4</td>\n",
              "      <td>Front</td>\n",
              "      <td>Used</td>\n",
              "      <td>Yes</td>\n",
              "      <td>Gasoline</td>\n",
              "      <td>4</td>\n",
              "      <td>5</td>\n",
              "      <td>4</td>\n",
              "      <td>No</td>\n",
              "      <td>1105</td>\n",
              "      <td>111</td>\n",
              "      <td>6</td>\n",
              "      <td>4</td>\n",
              "      <td>6</td>\n",
              "      <td>1395</td>\n",
              "      <td>Black</td>\n",
              "      <td>3</td>\n",
              "      <td>Part leather</td>\n",
              "      <td>CD player, MP3, On-board computer, Radio</td>\n",
              "      <td>Air conditioning, Armrest, Automatic climate c...</td>\n",
              "      <td>[['ABS', 'Alarm system', 'Bi-Xenon headlights'...</td>\n",
              "      <td>Alloy wheels,Shift paddles,Sport seats,Sport s...</td>\n",
              "      <td>False</td>\n",
              "    </tr>\n",
              "    <tr>\n",
              "      <th>...</th>\n",
              "      <td>...</td>\n",
              "      <td>...</td>\n",
              "      <td>...</td>\n",
              "      <td>...</td>\n",
              "      <td>...</td>\n",
              "      <td>...</td>\n",
              "      <td>...</td>\n",
              "      <td>...</td>\n",
              "      <td>...</td>\n",
              "      <td>...</td>\n",
              "      <td>...</td>\n",
              "      <td>...</td>\n",
              "      <td>...</td>\n",
              "      <td>...</td>\n",
              "      <td>...</td>\n",
              "      <td>...</td>\n",
              "      <td>...</td>\n",
              "      <td>...</td>\n",
              "      <td>...</td>\n",
              "      <td>...</td>\n",
              "      <td>...</td>\n",
              "      <td>...</td>\n",
              "      <td>...</td>\n",
              "      <td>...</td>\n",
              "      <td>...</td>\n",
              "      <td>...</td>\n",
              "      <td>...</td>\n",
              "      <td>...</td>\n",
              "      <td>...</td>\n",
              "      <td>...</td>\n",
              "      <td>...</td>\n",
              "      <td>...</td>\n",
              "      <td>...</td>\n",
              "      <td>...</td>\n",
              "      <td>...</td>\n",
              "      <td>...</td>\n",
              "    </tr>\n",
              "    <tr>\n",
              "      <th>69506</th>\n",
              "      <td>South Holland</td>\n",
              "      <td>Volvo</td>\n",
              "      <td>Volvo_S60</td>\n",
              "      <td>1999</td>\n",
              "      <td>Sedan</td>\n",
              "      <td>2005</td>\n",
              "      <td>17</td>\n",
              "      <td>442713</td>\n",
              "      <td>Manual</td>\n",
              "      <td>5</td>\n",
              "      <td>Dealer</td>\n",
              "      <td>Blue</td>\n",
              "      <td>103</td>\n",
              "      <td>5</td>\n",
              "      <td>Front</td>\n",
              "      <td>Used</td>\n",
              "      <td>Yes</td>\n",
              "      <td>LPG</td>\n",
              "      <td>9</td>\n",
              "      <td>13</td>\n",
              "      <td>7</td>\n",
              "      <td>No</td>\n",
              "      <td>1441</td>\n",
              "      <td>225</td>\n",
              "      <td>4</td>\n",
              "      <td>5</td>\n",
              "      <td>0</td>\n",
              "      <td>2435</td>\n",
              "      <td>Beige</td>\n",
              "      <td>4</td>\n",
              "      <td>Part leather</td>\n",
              "      <td>CD player, On-board computer, Radio</td>\n",
              "      <td>Air conditioning, Automatic climate control, C...</td>\n",
              "      <td>[['ABS', 'Central door lock', 'Central door lo...</td>\n",
              "      <td>Alloy wheels</td>\n",
              "      <td>True</td>\n",
              "    </tr>\n",
              "    <tr>\n",
              "      <th>69507</th>\n",
              "      <td>Friesland</td>\n",
              "      <td>Volvo</td>\n",
              "      <td>Volvo_S60</td>\n",
              "      <td>3950</td>\n",
              "      <td>Sedan</td>\n",
              "      <td>2005</td>\n",
              "      <td>17</td>\n",
              "      <td>251723</td>\n",
              "      <td>Manual</td>\n",
              "      <td>5</td>\n",
              "      <td>Dealer</td>\n",
              "      <td>Blue</td>\n",
              "      <td>103</td>\n",
              "      <td>5</td>\n",
              "      <td>Front</td>\n",
              "      <td>Used</td>\n",
              "      <td>No</td>\n",
              "      <td>CNG</td>\n",
              "      <td>8</td>\n",
              "      <td>12</td>\n",
              "      <td>6</td>\n",
              "      <td>No</td>\n",
              "      <td>1489</td>\n",
              "      <td>159</td>\n",
              "      <td>4</td>\n",
              "      <td>5</td>\n",
              "      <td>0</td>\n",
              "      <td>2435</td>\n",
              "      <td>Beige</td>\n",
              "      <td>4</td>\n",
              "      <td>Full leather</td>\n",
              "      <td>Radio</td>\n",
              "      <td>Air conditioning, Automatic climate control, C...</td>\n",
              "      <td>[['ABS', 'Alarm system', 'Central door lock', ...</td>\n",
              "      <td>Alloy wheels</td>\n",
              "      <td>True</td>\n",
              "    </tr>\n",
              "    <tr>\n",
              "      <th>69508</th>\n",
              "      <td>Flevoland</td>\n",
              "      <td>Volvo</td>\n",
              "      <td>Volvo_S60</td>\n",
              "      <td>3449</td>\n",
              "      <td>Sedan</td>\n",
              "      <td>2004</td>\n",
              "      <td>18</td>\n",
              "      <td>340257</td>\n",
              "      <td>Manual</td>\n",
              "      <td>5</td>\n",
              "      <td>Dealer</td>\n",
              "      <td>Black</td>\n",
              "      <td>132</td>\n",
              "      <td>5</td>\n",
              "      <td>Front</td>\n",
              "      <td>Used</td>\n",
              "      <td>Yes</td>\n",
              "      <td>LPG</td>\n",
              "      <td>9</td>\n",
              "      <td>12</td>\n",
              "      <td>7</td>\n",
              "      <td>No</td>\n",
              "      <td>1495</td>\n",
              "      <td>215</td>\n",
              "      <td>3</td>\n",
              "      <td>5</td>\n",
              "      <td>0</td>\n",
              "      <td>1984</td>\n",
              "      <td>Beige</td>\n",
              "      <td>4</td>\n",
              "      <td>Part leather</td>\n",
              "      <td>On-board computer</td>\n",
              "      <td>Air conditioning, Armrest, Automatic climate c...</td>\n",
              "      <td>[['ABS', 'Central door lock', 'Central door lo...</td>\n",
              "      <td>Alloy wheels,Automatically dimming interior mi...</td>\n",
              "      <td>True</td>\n",
              "    </tr>\n",
              "    <tr>\n",
              "      <th>69509</th>\n",
              "      <td>North Holland</td>\n",
              "      <td>Volvo</td>\n",
              "      <td>Volvo_S40</td>\n",
              "      <td>1650</td>\n",
              "      <td>Sedan</td>\n",
              "      <td>2004</td>\n",
              "      <td>18</td>\n",
              "      <td>399990</td>\n",
              "      <td>Manual</td>\n",
              "      <td>5</td>\n",
              "      <td>Private seller</td>\n",
              "      <td>Beige</td>\n",
              "      <td>103</td>\n",
              "      <td>5</td>\n",
              "      <td>Front</td>\n",
              "      <td>Used</td>\n",
              "      <td>No</td>\n",
              "      <td>LPG</td>\n",
              "      <td>8</td>\n",
              "      <td>12</td>\n",
              "      <td>6</td>\n",
              "      <td>No</td>\n",
              "      <td>1290</td>\n",
              "      <td>199</td>\n",
              "      <td>4</td>\n",
              "      <td>5</td>\n",
              "      <td>0</td>\n",
              "      <td>2435</td>\n",
              "      <td>Beige</td>\n",
              "      <td>4</td>\n",
              "      <td>Velour</td>\n",
              "      <td>CD player, On-board computer, Radio</td>\n",
              "      <td>Air conditioning, Armrest, Automatic climate c...</td>\n",
              "      <td>[['ABS', 'Central door lock with remote contro...</td>\n",
              "      <td>Alloy wheels,Automatically dimming interior mi...</td>\n",
              "      <td>False</td>\n",
              "    </tr>\n",
              "    <tr>\n",
              "      <th>69510</th>\n",
              "      <td>Utrecht</td>\n",
              "      <td>Volvo</td>\n",
              "      <td>Volvo_S60</td>\n",
              "      <td>944</td>\n",
              "      <td>Sedan</td>\n",
              "      <td>2001</td>\n",
              "      <td>21</td>\n",
              "      <td>404758</td>\n",
              "      <td>Manual</td>\n",
              "      <td>5</td>\n",
              "      <td>Dealer</td>\n",
              "      <td>Grey</td>\n",
              "      <td>104</td>\n",
              "      <td>5</td>\n",
              "      <td>Front</td>\n",
              "      <td>Used</td>\n",
              "      <td>No</td>\n",
              "      <td>LPG</td>\n",
              "      <td>8</td>\n",
              "      <td>11</td>\n",
              "      <td>6</td>\n",
              "      <td>No</td>\n",
              "      <td>1488</td>\n",
              "      <td>207</td>\n",
              "      <td>3</td>\n",
              "      <td>5</td>\n",
              "      <td>0</td>\n",
              "      <td>2435</td>\n",
              "      <td>Beige</td>\n",
              "      <td>4</td>\n",
              "      <td>Part leather</td>\n",
              "      <td>On-board computer, Radio</td>\n",
              "      <td>Air conditioning, Armrest, Automatic climate c...</td>\n",
              "      <td>[['ABS', 'Alarm system', 'Central door lock', ...</td>\n",
              "      <td>Alloy wheels</td>\n",
              "      <td>False</td>\n",
              "    </tr>\n",
              "  </tbody>\n",
              "</table>\n",
              "<p>69511 rows × 36 columns</p>\n",
              "</div>\n",
              "      <button class=\"colab-df-convert\" onclick=\"convertToInteractive('df-59708dba-6f7c-4829-b41c-86539eadf2d9')\"\n",
              "              title=\"Convert this dataframe to an interactive table.\"\n",
              "              style=\"display:none;\">\n",
              "        \n",
              "  <svg xmlns=\"http://www.w3.org/2000/svg\" height=\"24px\"viewBox=\"0 0 24 24\"\n",
              "       width=\"24px\">\n",
              "    <path d=\"M0 0h24v24H0V0z\" fill=\"none\"/>\n",
              "    <path d=\"M18.56 5.44l.94 2.06.94-2.06 2.06-.94-2.06-.94-.94-2.06-.94 2.06-2.06.94zm-11 1L8.5 8.5l.94-2.06 2.06-.94-2.06-.94L8.5 2.5l-.94 2.06-2.06.94zm10 10l.94 2.06.94-2.06 2.06-.94-2.06-.94-.94-2.06-.94 2.06-2.06.94z\"/><path d=\"M17.41 7.96l-1.37-1.37c-.4-.4-.92-.59-1.43-.59-.52 0-1.04.2-1.43.59L10.3 9.45l-7.72 7.72c-.78.78-.78 2.05 0 2.83L4 21.41c.39.39.9.59 1.41.59.51 0 1.02-.2 1.41-.59l7.78-7.78 2.81-2.81c.8-.78.8-2.07 0-2.86zM5.41 20L4 18.59l7.72-7.72 1.47 1.35L5.41 20z\"/>\n",
              "  </svg>\n",
              "      </button>\n",
              "      \n",
              "  <style>\n",
              "    .colab-df-container {\n",
              "      display:flex;\n",
              "      flex-wrap:wrap;\n",
              "      gap: 12px;\n",
              "    }\n",
              "\n",
              "    .colab-df-convert {\n",
              "      background-color: #E8F0FE;\n",
              "      border: none;\n",
              "      border-radius: 50%;\n",
              "      cursor: pointer;\n",
              "      display: none;\n",
              "      fill: #1967D2;\n",
              "      height: 32px;\n",
              "      padding: 0 0 0 0;\n",
              "      width: 32px;\n",
              "    }\n",
              "\n",
              "    .colab-df-convert:hover {\n",
              "      background-color: #E2EBFA;\n",
              "      box-shadow: 0px 1px 2px rgba(60, 64, 67, 0.3), 0px 1px 3px 1px rgba(60, 64, 67, 0.15);\n",
              "      fill: #174EA6;\n",
              "    }\n",
              "\n",
              "    [theme=dark] .colab-df-convert {\n",
              "      background-color: #3B4455;\n",
              "      fill: #D2E3FC;\n",
              "    }\n",
              "\n",
              "    [theme=dark] .colab-df-convert:hover {\n",
              "      background-color: #434B5C;\n",
              "      box-shadow: 0px 1px 3px 1px rgba(0, 0, 0, 0.15);\n",
              "      filter: drop-shadow(0px 1px 2px rgba(0, 0, 0, 0.3));\n",
              "      fill: #FFFFFF;\n",
              "    }\n",
              "  </style>\n",
              "\n",
              "      <script>\n",
              "        const buttonEl =\n",
              "          document.querySelector('#df-59708dba-6f7c-4829-b41c-86539eadf2d9 button.colab-df-convert');\n",
              "        buttonEl.style.display =\n",
              "          google.colab.kernel.accessAllowed ? 'block' : 'none';\n",
              "\n",
              "        async function convertToInteractive(key) {\n",
              "          const element = document.querySelector('#df-59708dba-6f7c-4829-b41c-86539eadf2d9');\n",
              "          const dataTable =\n",
              "            await google.colab.kernel.invokeFunction('convertToInteractive',\n",
              "                                                     [key], {});\n",
              "          if (!dataTable) return;\n",
              "\n",
              "          const docLinkHtml = 'Like what you see? Visit the ' +\n",
              "            '<a target=\"_blank\" href=https://colab.research.google.com/notebooks/data_table.ipynb>data table notebook</a>'\n",
              "            + ' to learn more about interactive tables.';\n",
              "          element.innerHTML = '';\n",
              "          dataTable['output_type'] = 'display_data';\n",
              "          await google.colab.output.renderOutput(dataTable, element);\n",
              "          const docLink = document.createElement('div');\n",
              "          docLink.innerHTML = docLinkHtml;\n",
              "          element.appendChild(docLink);\n",
              "        }\n",
              "      </script>\n",
              "    </div>\n",
              "  </div>\n",
              "  "
            ]
          },
          "metadata": {},
          "execution_count": 52
        }
      ]
    },
    {
      "cell_type": "code",
      "source": [
        "# Class5-Data_Visualization-Module-Week24\n",
        "\n",
        "## This is the continuation of the homework autoscout project\n",
        "## Generate graphs using the methods of the seaborn and matplotlib libraries to the questions below\n",
        "\"\"\"\n",
        "- 1-Top 20 most advertised car models\n",
        "- 2-Frequencies of the number of vehicle advertisements placed in the advertisement according to the gear type\n",
        "- 3-Frequencies of the number of vehicle advertisements placed in the advertisement according to the fuel type\n",
        "- 4-Graph of average prices by brand.\n",
        "- 5-Graph of mileage averages by law\n",
        "- 6-CO2 emission graph by fuel type\n",
        "- 7-age+price index\n",
        "- 8-car chart posted by state\n",
        "- 9-average fuel consumption by brands\n",
        "- 10-HP average by brand\n",
        "- 11-vehicle weight chart by brand\n",
        "\"\"\""
      ],
      "metadata": {
        "colab": {
          "base_uri": "https://localhost:8080/",
          "height": 70
        },
        "id": "LAy9pDZ2t_sS",
        "outputId": "6486003f-1b02-40a8-ecbb-b0ad13301153"
      },
      "execution_count": 44,
      "outputs": [
        {
          "output_type": "execute_result",
          "data": {
            "text/plain": [
              "'\\n- 1-Top 20 most advertised car models\\n- 2-Frequencies of the number of vehicle advertisements placed in the advertisement according to the gear type\\n- 3-Frequencies of the number of vehicle advertisements placed in the advertisement according to the fuel type\\n- 4-Graph of average prices by brand.\\n- 5-Graph of mileage averages by law\\n- 6-CO2 emission graph by fuel type\\n- 7-age+price index\\n- 8-car chart posted by state\\n- 9-average fuel consumption by brands\\n- 10-HP average by brand\\n- 11-vehicle weight chart by brand\\n'"
            ],
            "application/vnd.google.colaboratory.intrinsic+json": {
              "type": "string"
            }
          },
          "metadata": {},
          "execution_count": 44
        }
      ]
    },
    {
      "cell_type": "code",
      "source": [
        "make_values = pd.DataFrame(df.make.value_counts())\n",
        "make_values.reset_index(inplace = True)"
      ],
      "metadata": {
        "id": "StikNvFwuUiO"
      },
      "execution_count": 45,
      "outputs": []
    },
    {
      "cell_type": "code",
      "source": [
        "make_values.rename(columns = {'index' :'make','make':'counts'} , inplace = True )"
      ],
      "metadata": {
        "id": "Gr8gVbmXw3lj"
      },
      "execution_count": 46,
      "outputs": []
    },
    {
      "cell_type": "code",
      "source": [
        "make_values"
      ],
      "metadata": {
        "colab": {
          "base_uri": "https://localhost:8080/",
          "height": 677
        },
        "id": "1Wyj20RUxFkI",
        "outputId": "ddbca430-e8ca-4aaa-b0d2-acf514d68567"
      },
      "execution_count": 47,
      "outputs": [
        {
          "output_type": "execute_result",
          "data": {
            "text/plain": [
              "             make  counts\n",
              "0             BMW    7647\n",
              "1      Volkswagen    7193\n",
              "2   Mercedes-Benz    6547\n",
              "3            Audi    6244\n",
              "4           Volvo    5168\n",
              "5         Renault    4732\n",
              "6            Ford    4469\n",
              "7         Peugeot    3885\n",
              "8          Toyota    3081\n",
              "9           Skoda    2857\n",
              "10            Kia    2812\n",
              "11           Opel    2583\n",
              "12        Hyundai    2520\n",
              "13          Mazda    2413\n",
              "14        Citroen    2395\n",
              "15           Fiat    2080\n",
              "16          Honda    1052\n",
              "17          Dacia     908\n",
              "18      Chevrolet     468\n",
              "19          Tesla     457"
            ],
            "text/html": [
              "\n",
              "  <div id=\"df-9f6eba0a-c376-4c8c-9705-7070276ad5b7\">\n",
              "    <div class=\"colab-df-container\">\n",
              "      <div>\n",
              "<style scoped>\n",
              "    .dataframe tbody tr th:only-of-type {\n",
              "        vertical-align: middle;\n",
              "    }\n",
              "\n",
              "    .dataframe tbody tr th {\n",
              "        vertical-align: top;\n",
              "    }\n",
              "\n",
              "    .dataframe thead th {\n",
              "        text-align: right;\n",
              "    }\n",
              "</style>\n",
              "<table border=\"1\" class=\"dataframe\">\n",
              "  <thead>\n",
              "    <tr style=\"text-align: right;\">\n",
              "      <th></th>\n",
              "      <th>make</th>\n",
              "      <th>counts</th>\n",
              "    </tr>\n",
              "  </thead>\n",
              "  <tbody>\n",
              "    <tr>\n",
              "      <th>0</th>\n",
              "      <td>BMW</td>\n",
              "      <td>7647</td>\n",
              "    </tr>\n",
              "    <tr>\n",
              "      <th>1</th>\n",
              "      <td>Volkswagen</td>\n",
              "      <td>7193</td>\n",
              "    </tr>\n",
              "    <tr>\n",
              "      <th>2</th>\n",
              "      <td>Mercedes-Benz</td>\n",
              "      <td>6547</td>\n",
              "    </tr>\n",
              "    <tr>\n",
              "      <th>3</th>\n",
              "      <td>Audi</td>\n",
              "      <td>6244</td>\n",
              "    </tr>\n",
              "    <tr>\n",
              "      <th>4</th>\n",
              "      <td>Volvo</td>\n",
              "      <td>5168</td>\n",
              "    </tr>\n",
              "    <tr>\n",
              "      <th>5</th>\n",
              "      <td>Renault</td>\n",
              "      <td>4732</td>\n",
              "    </tr>\n",
              "    <tr>\n",
              "      <th>6</th>\n",
              "      <td>Ford</td>\n",
              "      <td>4469</td>\n",
              "    </tr>\n",
              "    <tr>\n",
              "      <th>7</th>\n",
              "      <td>Peugeot</td>\n",
              "      <td>3885</td>\n",
              "    </tr>\n",
              "    <tr>\n",
              "      <th>8</th>\n",
              "      <td>Toyota</td>\n",
              "      <td>3081</td>\n",
              "    </tr>\n",
              "    <tr>\n",
              "      <th>9</th>\n",
              "      <td>Skoda</td>\n",
              "      <td>2857</td>\n",
              "    </tr>\n",
              "    <tr>\n",
              "      <th>10</th>\n",
              "      <td>Kia</td>\n",
              "      <td>2812</td>\n",
              "    </tr>\n",
              "    <tr>\n",
              "      <th>11</th>\n",
              "      <td>Opel</td>\n",
              "      <td>2583</td>\n",
              "    </tr>\n",
              "    <tr>\n",
              "      <th>12</th>\n",
              "      <td>Hyundai</td>\n",
              "      <td>2520</td>\n",
              "    </tr>\n",
              "    <tr>\n",
              "      <th>13</th>\n",
              "      <td>Mazda</td>\n",
              "      <td>2413</td>\n",
              "    </tr>\n",
              "    <tr>\n",
              "      <th>14</th>\n",
              "      <td>Citroen</td>\n",
              "      <td>2395</td>\n",
              "    </tr>\n",
              "    <tr>\n",
              "      <th>15</th>\n",
              "      <td>Fiat</td>\n",
              "      <td>2080</td>\n",
              "    </tr>\n",
              "    <tr>\n",
              "      <th>16</th>\n",
              "      <td>Honda</td>\n",
              "      <td>1052</td>\n",
              "    </tr>\n",
              "    <tr>\n",
              "      <th>17</th>\n",
              "      <td>Dacia</td>\n",
              "      <td>908</td>\n",
              "    </tr>\n",
              "    <tr>\n",
              "      <th>18</th>\n",
              "      <td>Chevrolet</td>\n",
              "      <td>468</td>\n",
              "    </tr>\n",
              "    <tr>\n",
              "      <th>19</th>\n",
              "      <td>Tesla</td>\n",
              "      <td>457</td>\n",
              "    </tr>\n",
              "  </tbody>\n",
              "</table>\n",
              "</div>\n",
              "      <button class=\"colab-df-convert\" onclick=\"convertToInteractive('df-9f6eba0a-c376-4c8c-9705-7070276ad5b7')\"\n",
              "              title=\"Convert this dataframe to an interactive table.\"\n",
              "              style=\"display:none;\">\n",
              "        \n",
              "  <svg xmlns=\"http://www.w3.org/2000/svg\" height=\"24px\"viewBox=\"0 0 24 24\"\n",
              "       width=\"24px\">\n",
              "    <path d=\"M0 0h24v24H0V0z\" fill=\"none\"/>\n",
              "    <path d=\"M18.56 5.44l.94 2.06.94-2.06 2.06-.94-2.06-.94-.94-2.06-.94 2.06-2.06.94zm-11 1L8.5 8.5l.94-2.06 2.06-.94-2.06-.94L8.5 2.5l-.94 2.06-2.06.94zm10 10l.94 2.06.94-2.06 2.06-.94-2.06-.94-.94-2.06-.94 2.06-2.06.94z\"/><path d=\"M17.41 7.96l-1.37-1.37c-.4-.4-.92-.59-1.43-.59-.52 0-1.04.2-1.43.59L10.3 9.45l-7.72 7.72c-.78.78-.78 2.05 0 2.83L4 21.41c.39.39.9.59 1.41.59.51 0 1.02-.2 1.41-.59l7.78-7.78 2.81-2.81c.8-.78.8-2.07 0-2.86zM5.41 20L4 18.59l7.72-7.72 1.47 1.35L5.41 20z\"/>\n",
              "  </svg>\n",
              "      </button>\n",
              "      \n",
              "  <style>\n",
              "    .colab-df-container {\n",
              "      display:flex;\n",
              "      flex-wrap:wrap;\n",
              "      gap: 12px;\n",
              "    }\n",
              "\n",
              "    .colab-df-convert {\n",
              "      background-color: #E8F0FE;\n",
              "      border: none;\n",
              "      border-radius: 50%;\n",
              "      cursor: pointer;\n",
              "      display: none;\n",
              "      fill: #1967D2;\n",
              "      height: 32px;\n",
              "      padding: 0 0 0 0;\n",
              "      width: 32px;\n",
              "    }\n",
              "\n",
              "    .colab-df-convert:hover {\n",
              "      background-color: #E2EBFA;\n",
              "      box-shadow: 0px 1px 2px rgba(60, 64, 67, 0.3), 0px 1px 3px 1px rgba(60, 64, 67, 0.15);\n",
              "      fill: #174EA6;\n",
              "    }\n",
              "\n",
              "    [theme=dark] .colab-df-convert {\n",
              "      background-color: #3B4455;\n",
              "      fill: #D2E3FC;\n",
              "    }\n",
              "\n",
              "    [theme=dark] .colab-df-convert:hover {\n",
              "      background-color: #434B5C;\n",
              "      box-shadow: 0px 1px 3px 1px rgba(0, 0, 0, 0.15);\n",
              "      filter: drop-shadow(0px 1px 2px rgba(0, 0, 0, 0.3));\n",
              "      fill: #FFFFFF;\n",
              "    }\n",
              "  </style>\n",
              "\n",
              "      <script>\n",
              "        const buttonEl =\n",
              "          document.querySelector('#df-9f6eba0a-c376-4c8c-9705-7070276ad5b7 button.colab-df-convert');\n",
              "        buttonEl.style.display =\n",
              "          google.colab.kernel.accessAllowed ? 'block' : 'none';\n",
              "\n",
              "        async function convertToInteractive(key) {\n",
              "          const element = document.querySelector('#df-9f6eba0a-c376-4c8c-9705-7070276ad5b7');\n",
              "          const dataTable =\n",
              "            await google.colab.kernel.invokeFunction('convertToInteractive',\n",
              "                                                     [key], {});\n",
              "          if (!dataTable) return;\n",
              "\n",
              "          const docLinkHtml = 'Like what you see? Visit the ' +\n",
              "            '<a target=\"_blank\" href=https://colab.research.google.com/notebooks/data_table.ipynb>data table notebook</a>'\n",
              "            + ' to learn more about interactive tables.';\n",
              "          element.innerHTML = '';\n",
              "          dataTable['output_type'] = 'display_data';\n",
              "          await google.colab.output.renderOutput(dataTable, element);\n",
              "          const docLink = document.createElement('div');\n",
              "          docLink.innerHTML = docLinkHtml;\n",
              "          element.appendChild(docLink);\n",
              "        }\n",
              "      </script>\n",
              "    </div>\n",
              "  </div>\n",
              "  "
            ]
          },
          "metadata": {},
          "execution_count": 47
        }
      ]
    },
    {
      "cell_type": "code",
      "source": [
        "plt.figure(figsize = (15,15))\n",
        "sns.barplot(y=\"make\",x='counts' ,data=make_values)\n",
        "plt.xlabel(\"frequency\", fontsize=18)\n",
        "plt.ylabel(\"make\", fontsize=18)\n",
        "plt.title(\"The most cars\", fontsize=20)"
      ],
      "metadata": {
        "colab": {
          "base_uri": "https://localhost:8080/",
          "height": 926
        },
        "id": "yd39kakiusNy",
        "outputId": "edb90be7-cdb1-46b1-f003-941356d3283d"
      },
      "execution_count": 48,
      "outputs": [
        {
          "output_type": "execute_result",
          "data": {
            "text/plain": [
              "Text(0.5, 1.0, 'The most cars')"
            ]
          },
          "metadata": {},
          "execution_count": 48
        },
        {
          "output_type": "display_data",
          "data": {
            "text/plain": [
              "<Figure size 1080x1080 with 1 Axes>"
            ],
            "image/png": "[encoded data removed]"
          },
          "metadata": {
            "needs_background": "light"
          }
        }
      ]
    },
    {
      "cell_type": "code",
      "source": [
        "plt.figure(figsize = (15,5))\n",
        "sns.barplot(y=df.Gearbox.value_counts().index,x=df.Gearbox.value_counts().values ,data = df)\n",
        "plt.xlabel(\"frequency\", fontsize=18)\n",
        "plt.ylabel(\"Gearbox\", fontsize=18)\n",
        "plt.title(\"Frequency of vehicle geartype\", fontsize=20)"
      ],
      "metadata": {
        "colab": {
          "base_uri": "https://localhost:8080/",
          "height": 382
        },
        "id": "HdUtCVeTIY2t",
        "outputId": "9c7c2e91-5dc3-49a8-ee67-c4da427f7e08"
      },
      "execution_count": 50,
      "outputs": [
        {
          "output_type": "execute_result",
          "data": {
            "text/plain": [
              "Text(0.5, 1.0, 'Frequency of vehicle geartype')"
            ]
          },
          "metadata": {},
          "execution_count": 50
        },
        {
          "output_type": "display_data",
          "data": {
            "text/plain": [
              "<Figure size 1080x360 with 1 Axes>"
            ],
            "image/png": "[encoded data removed]"
          },
          "metadata": {
            "needs_background": "light"
          }
        }
      ]
    },
    {
      "cell_type": "code",
      "source": [
        "df.fuel_type.value_counts()"
      ],
      "metadata": {
        "colab": {
          "base_uri": "https://localhost:8080/"
        },
        "id": "unUhrA8bMCBf",
        "outputId": "78a82054-cf48-41be-f2ef-b8a48877661f"
      },
      "execution_count": 54,
      "outputs": [
        {
          "output_type": "execute_result",
          "data": {
            "text/plain": [
              "Gasoline             40759\n",
              "Diesel               13043\n",
              "Electric/Gasoline     9164\n",
              "Electric              5477\n",
              "LPG                    597\n",
              "Electric/Diesel        277\n",
              "CNG                    107\n",
              "Hydrogen                67\n",
              "Ethanol                 12\n",
              "Others                   8\n",
              "Name: fuel_type, dtype: int64"
            ]
          },
          "metadata": {},
          "execution_count": 54
        }
      ]
    },
    {
      "cell_type": "code",
      "source": [
        "plt.figure(figsize = (15,5))\n",
        "sns.barplot(y=df.fuel_type.value_counts().index,x=df.fuel_type.value_counts().values ,data = df)\n",
        "plt.xlabel(\"frequency\", fontsize=18)\n",
        "plt.ylabel(\"fuel_type\", fontsize=18)\n",
        "plt.title(\"Frequency of vehicle fuel type\", fontsize=20)"
      ],
      "metadata": {
        "colab": {
          "base_uri": "https://localhost:8080/",
          "height": 382
        },
        "id": "jJ14wIZ8KHgI",
        "outputId": "4eaeddb3-e726-4945-c6c3-fdc7ce37dad1"
      },
      "execution_count": 53,
      "outputs": [
        {
          "output_type": "execute_result",
          "data": {
            "text/plain": [
              "Text(0.5, 1.0, 'Frequency of vehicle geartype')"
            ]
          },
          "metadata": {},
          "execution_count": 53
        },
        {
          "output_type": "display_data",
          "data": {
            "text/plain": [
              "<Figure size 1080x360 with 1 Axes>"
            ],
            "image/png": "[encoded data removed]"
          },
          "metadata": {
            "needs_background": "light"
          }
        }
      ]
    },
    {
      "cell_type": "code",
      "source": [
        "df.groupby('make').price.mean().sort_values()"
      ],
      "metadata": {
        "colab": {
          "base_uri": "https://localhost:8080/"
        },
        "id": "9J1FCFreMnej",
        "outputId": "0be6886c-b416-4205-ea8e-15676834fb0f"
      },
      "execution_count": 62,
      "outputs": [
        {
          "output_type": "execute_result",
          "data": {
            "text/plain": [
              "make\n",
              "Chevrolet        13002.324786\n",
              "Dacia            13501.014317\n",
              "Fiat             13980.153365\n",
              "Peugeot          14835.276448\n",
              "Renault          15283.004015\n",
              "Citroen          15366.702296\n",
              "Opel             16937.788231\n",
              "Toyota           17726.821487\n",
              "Mazda            18140.790717\n",
              "Honda            19509.805133\n",
              "Volkswagen       19755.205756\n",
              "Kia              21549.573613\n",
              "Hyundai          21573.588492\n",
              "Ford             22632.680242\n",
              "Skoda            23311.967448\n",
              "Volvo            23859.755611\n",
              "BMW              27912.491173\n",
              "Mercedes-Benz    28937.406751\n",
              "Audi             33727.504164\n",
              "Tesla            58657.411379\n",
              "Name: price, dtype: float64"
            ]
          },
          "metadata": {},
          "execution_count": 62
        }
      ]
    },
    {
      "cell_type": "code",
      "source": [
        "plt.figure(figsize = (15,5))\n",
        "sns.barplot(y=df.groupby('make').price.mean().sort_values(ascending=False).index,x=df.groupby('make').price.mean().sort_values(ascending=False).values ,data = df)\n",
        "plt.xlabel(\"price\", fontsize=18)\n",
        "plt.ylabel(\"make\", fontsize=18)\n",
        "plt.title(\"Average Price by brand\", fontsize=20)"
      ],
      "metadata": {
        "colab": {
          "base_uri": "https://localhost:8080/",
          "height": 382
        },
        "id": "ZIU-MpD9L--w",
        "outputId": "003ad4c2-c136-448b-f56f-eb38e89ae345"
      },
      "execution_count": 66,
      "outputs": [
        {
          "output_type": "execute_result",
          "data": {
            "text/plain": [
              "Text(0.5, 1.0, 'Average Price by brand')"
            ]
          },
          "metadata": {},
          "execution_count": 66
        },
        {
          "output_type": "display_data",
          "data": {
            "text/plain": [
              "<Figure size 1080x360 with 1 Axes>"
            ],
            "image/png": "[encoded data removed]"
          },
          "metadata": {
            "needs_background": "light"
          }
        }
      ]
    },
    {
      "cell_type": "code",
      "source": [
        "plt.figure(figsize = (15,5))\n",
        "sns.barplot(y=df.groupby('province').mileage.mean().sort_values(ascending=False).index,x=df.groupby('province').mileage.mean().sort_values(ascending=False).values ,data = df)\n",
        "plt.xlabel(\"mileage\", fontsize=18)\n",
        "plt.ylabel(\"Province\", fontsize=18)\n",
        "plt.title(\"Average mileage by law(province)\", fontsize=20)"
      ],
      "metadata": {
        "colab": {
          "base_uri": "https://localhost:8080/",
          "height": 382
        },
        "id": "7My34yOUM3h7",
        "outputId": "8c43b8a9-432d-4a67-a123-a1c426fa5f17"
      },
      "execution_count": 68,
      "outputs": [
        {
          "output_type": "execute_result",
          "data": {
            "text/plain": [
              "Text(0.5, 1.0, 'Average mileage by law(province)')"
            ]
          },
          "metadata": {},
          "execution_count": 68
        },
        {
          "output_type": "display_data",
          "data": {
            "text/plain": [
              "<Figure size 1080x360 with 1 Axes>"
            ],
            "image/png": "[encoded data removed]"
          },
          "metadata": {
            "needs_background": "light"
          }
        }
      ]
    },
    {
      "cell_type": "code",
      "source": [
        "plt.figure(figsize = (15,5))\n",
        "sns.barplot(y=df.groupby('fuel_type').co2_emissions.mean().sort_values(ascending=False).index,x=df.groupby('fuel_type').co2_emissions.mean().sort_values(ascending=False).values ,data = df)\n",
        "plt.xlabel(\"co2_emission\", fontsize=18)\n",
        "plt.ylabel(\"fuel type\", fontsize=18)\n",
        "plt.title(\"Average co2 emission by fuel_type\", fontsize=20)"
      ],
      "metadata": {
        "colab": {
          "base_uri": "https://localhost:8080/",
          "height": 382
        },
        "id": "w7YmbYFkOAsh",
        "outputId": "f07e0870-094a-4e92-a6a3-fc5baaed2115"
      },
      "execution_count": 70,
      "outputs": [
        {
          "output_type": "execute_result",
          "data": {
            "text/plain": [
              "Text(0.5, 1.0, 'Average co2 emission by fuel_type')"
            ]
          },
          "metadata": {},
          "execution_count": 70
        },
        {
          "output_type": "display_data",
          "data": {
            "text/plain": [
              "<Figure size 1080x360 with 1 Axes>"
            ],
            "image/png": "[encoded data removed]"
          },
          "metadata": {
            "needs_background": "light"
          }
        }
      ]
    },
    {
      "cell_type": "code",
      "source": [
        "plt.figure(figsize = (15,5))\n",
        "sns.pointplot(x=df.groupby('vehicle_age').price.mean().sort_values(ascending=False).index,y=df.groupby('vehicle_age').price.mean().sort_values(ascending=False).values ,data = df)\n",
        "plt.xlabel(\"price\", fontsize=18)\n",
        "plt.ylabel(\"vehicle_age\", fontsize=18)\n",
        "plt.title(\"age+price index\", fontsize=20)"
      ],
      "metadata": {
        "colab": {
          "base_uri": "https://localhost:8080/",
          "height": 382
        },
        "id": "zc06pnH6Oc6J",
        "outputId": "b073d535-8822-47ed-c0da-e57fcd10d921"
      },
      "execution_count": 79,
      "outputs": [
        {
          "output_type": "execute_result",
          "data": {
            "text/plain": [
              "Text(0.5, 1.0, 'age+price index')"
            ]
          },
          "metadata": {},
          "execution_count": 79
        },
        {
          "output_type": "display_data",
          "data": {
            "text/plain": [
              "<Figure size 1080x360 with 1 Axes>"
            ],
            "image/png": "[encoded data removed]"
          },
          "metadata": {
            "needs_background": "light"
          }
        }
      ]
    },
    {
      "cell_type": "code",
      "source": [
        "df[df.vehicle_age == 31] "
      ],
      "metadata": {
        "colab": {
          "base_uri": "https://localhost:8080/",
          "height": 249
        },
        "id": "h2PIf1uGPG-t",
        "outputId": "8e0c1aa1-f82f-437d-81b6-8b738188ed85"
      },
      "execution_count": 75,
      "outputs": [
        {
          "output_type": "execute_result",
          "data": {
            "text/plain": [
              "         province   make    make_model  price body_type  registration  \\\n",
              "45510  Gelderland  Honda  Honda_Others  60000     Coupe          1991   \n",
              "\n",
              "       vehicle_age  mileage Gearbox  gears          seller colour  power(kW)  \\\n",
              "45510           31   150000  Manual      6  Private seller  White        206   \n",
              "\n",
              "       cylinders drivetrain  type full_service_history fuel_type  \\\n",
              "45510          6      Front  Used                   No  Gasoline   \n",
              "\n",
              "       combination(L/100Km)  city(L/100Km)  country(L/100Km)  \\\n",
              "45510                    12             17                 9   \n",
              "\n",
              "      non_smoker_vehicle  empty_weight  co2_emissions  emission_class(Euro)  \\\n",
              "45510                 No          1445            291                     6   \n",
              "\n",
              "       seats  warranty_months  engine_size upholstery_colour  doors  \\\n",
              "45510      2                0         3179               Red      2   \n",
              "\n",
              "      upholstery Entertainment & Media  \\\n",
              "45510      Cloth   Radio, Sound system   \n",
              "\n",
              "                                   Comfort & Convenience  \\\n",
              "45510  Air conditioning, Automatic climate control, C...   \n",
              "\n",
              "                                                  Safety        extras  \\\n",
              "45510  [['ABS', 'Alarm system', 'Central door lock', ...  Alloy wheels   \n",
              "\n",
              "       general_inspection  \n",
              "45510               False  "
            ],
            "text/html": [
              "\n",
              "  <div id=\"df-a094a108-b9c4-4cd5-a971-8d0824288429\">\n",
              "    <div class=\"colab-df-container\">\n",
              "      <div>\n",
              "<style scoped>\n",
              "    .dataframe tbody tr th:only-of-type {\n",
              "        vertical-align: middle;\n",
              "    }\n",
              "\n",
              "    .dataframe tbody tr th {\n",
              "        vertical-align: top;\n",
              "    }\n",
              "\n",
              "    .dataframe thead th {\n",
              "        text-align: right;\n",
              "    }\n",
              "</style>\n",
              "<table border=\"1\" class=\"dataframe\">\n",
              "  <thead>\n",
              "    <tr style=\"text-align: right;\">\n",
              "      <th></th>\n",
              "      <th>province</th>\n",
              "      <th>make</th>\n",
              "      <th>make_model</th>\n",
              "      <th>price</th>\n",
              "      <th>body_type</th>\n",
              "      <th>registration</th>\n",
              "      <th>vehicle_age</th>\n",
              "      <th>mileage</th>\n",
              "      <th>Gearbox</th>\n",
              "      <th>gears</th>\n",
              "      <th>seller</th>\n",
              "      <th>colour</th>\n",
              "      <th>power(kW)</th>\n",
              "      <th>cylinders</th>\n",
              "      <th>drivetrain</th>\n",
              "      <th>type</th>\n",
              "      <th>full_service_history</th>\n",
              "      <th>fuel_type</th>\n",
              "      <th>combination(L/100Km)</th>\n",
              "      <th>city(L/100Km)</th>\n",
              "      <th>country(L/100Km)</th>\n",
              "      <th>non_smoker_vehicle</th>\n",
              "      <th>empty_weight</th>\n",
              "      <th>co2_emissions</th>\n",
              "      <th>emission_class(Euro)</th>\n",
              "      <th>seats</th>\n",
              "      <th>warranty_months</th>\n",
              "      <th>engine_size</th>\n",
              "      <th>upholstery_colour</th>\n",
              "      <th>doors</th>\n",
              "      <th>upholstery</th>\n",
              "      <th>Entertainment &amp; Media</th>\n",
              "      <th>Comfort &amp; Convenience</th>\n",
              "      <th>Safety</th>\n",
              "      <th>extras</th>\n",
              "      <th>general_inspection</th>\n",
              "    </tr>\n",
              "  </thead>\n",
              "  <tbody>\n",
              "    <tr>\n",
              "      <th>45510</th>\n",
              "      <td>Gelderland</td>\n",
              "      <td>Honda</td>\n",
              "      <td>Honda_Others</td>\n",
              "      <td>60000</td>\n",
              "      <td>Coupe</td>\n",
              "      <td>1991</td>\n",
              "      <td>31</td>\n",
              "      <td>150000</td>\n",
              "      <td>Manual</td>\n",
              "      <td>6</td>\n",
              "      <td>Private seller</td>\n",
              "      <td>White</td>\n",
              "      <td>206</td>\n",
              "      <td>6</td>\n",
              "      <td>Front</td>\n",
              "      <td>Used</td>\n",
              "      <td>No</td>\n",
              "      <td>Gasoline</td>\n",
              "      <td>12</td>\n",
              "      <td>17</td>\n",
              "      <td>9</td>\n",
              "      <td>No</td>\n",
              "      <td>1445</td>\n",
              "      <td>291</td>\n",
              "      <td>6</td>\n",
              "      <td>2</td>\n",
              "      <td>0</td>\n",
              "      <td>3179</td>\n",
              "      <td>Red</td>\n",
              "      <td>2</td>\n",
              "      <td>Cloth</td>\n",
              "      <td>Radio, Sound system</td>\n",
              "      <td>Air conditioning, Automatic climate control, C...</td>\n",
              "      <td>[['ABS', 'Alarm system', 'Central door lock', ...</td>\n",
              "      <td>Alloy wheels</td>\n",
              "      <td>False</td>\n",
              "    </tr>\n",
              "  </tbody>\n",
              "</table>\n",
              "</div>\n",
              "      <button class=\"colab-df-convert\" onclick=\"convertToInteractive('df-a094a108-b9c4-4cd5-a971-8d0824288429')\"\n",
              "              title=\"Convert this dataframe to an interactive table.\"\n",
              "              style=\"display:none;\">\n",
              "        \n",
              "  <svg xmlns=\"http://www.w3.org/2000/svg\" height=\"24px\"viewBox=\"0 0 24 24\"\n",
              "       width=\"24px\">\n",
              "    <path d=\"M0 0h24v24H0V0z\" fill=\"none\"/>\n",
              "    <path d=\"M18.56 5.44l.94 2.06.94-2.06 2.06-.94-2.06-.94-.94-2.06-.94 2.06-2.06.94zm-11 1L8.5 8.5l.94-2.06 2.06-.94-2.06-.94L8.5 2.5l-.94 2.06-2.06.94zm10 10l.94 2.06.94-2.06 2.06-.94-2.06-.94-.94-2.06-.94 2.06-2.06.94z\"/><path d=\"M17.41 7.96l-1.37-1.37c-.4-.4-.92-.59-1.43-.59-.52 0-1.04.2-1.43.59L10.3 9.45l-7.72 7.72c-.78.78-.78 2.05 0 2.83L4 21.41c.39.39.9.59 1.41.59.51 0 1.02-.2 1.41-.59l7.78-7.78 2.81-2.81c.8-.78.8-2.07 0-2.86zM5.41 20L4 18.59l7.72-7.72 1.47 1.35L5.41 20z\"/>\n",
              "  </svg>\n",
              "      </button>\n",
              "      \n",
              "  <style>\n",
              "    .colab-df-container {\n",
              "      display:flex;\n",
              "      flex-wrap:wrap;\n",
              "      gap: 12px;\n",
              "    }\n",
              "\n",
              "    .colab-df-convert {\n",
              "      background-color: #E8F0FE;\n",
              "      border: none;\n",
              "      border-radius: 50%;\n",
              "      cursor: pointer;\n",
              "      display: none;\n",
              "      fill: #1967D2;\n",
              "      height: 32px;\n",
              "      padding: 0 0 0 0;\n",
              "      width: 32px;\n",
              "    }\n",
              "\n",
              "    .colab-df-convert:hover {\n",
              "      background-color: #E2EBFA;\n",
              "      box-shadow: 0px 1px 2px rgba(60, 64, 67, 0.3), 0px 1px 3px 1px rgba(60, 64, 67, 0.15);\n",
              "      fill: #174EA6;\n",
              "    }\n",
              "\n",
              "    [theme=dark] .colab-df-convert {\n",
              "      background-color: #3B4455;\n",
              "      fill: #D2E3FC;\n",
              "    }\n",
              "\n",
              "    [theme=dark] .colab-df-convert:hover {\n",
              "      background-color: #434B5C;\n",
              "      box-shadow: 0px 1px 3px 1px rgba(0, 0, 0, 0.15);\n",
              "      filter: drop-shadow(0px 1px 2px rgba(0, 0, 0, 0.3));\n",
              "      fill: #FFFFFF;\n",
              "    }\n",
              "  </style>\n",
              "\n",
              "      <script>\n",
              "        const buttonEl =\n",
              "          document.querySelector('#df-a094a108-b9c4-4cd5-a971-8d0824288429 button.colab-df-convert');\n",
              "        buttonEl.style.display =\n",
              "          google.colab.kernel.accessAllowed ? 'block' : 'none';\n",
              "\n",
              "        async function convertToInteractive(key) {\n",
              "          const element = document.querySelector('#df-a094a108-b9c4-4cd5-a971-8d0824288429');\n",
              "          const dataTable =\n",
              "            await google.colab.kernel.invokeFunction('convertToInteractive',\n",
              "                                                     [key], {});\n",
              "          if (!dataTable) return;\n",
              "\n",
              "          const docLinkHtml = 'Like what you see? Visit the ' +\n",
              "            '<a target=\"_blank\" href=https://colab.research.google.com/notebooks/data_table.ipynb>data table notebook</a>'\n",
              "            + ' to learn more about interactive tables.';\n",
              "          element.innerHTML = '';\n",
              "          dataTable['output_type'] = 'display_data';\n",
              "          await google.colab.output.renderOutput(dataTable, element);\n",
              "          const docLink = document.createElement('div');\n",
              "          docLink.innerHTML = docLinkHtml;\n",
              "          element.appendChild(docLink);\n",
              "        }\n",
              "      </script>\n",
              "    </div>\n",
              "  </div>\n",
              "  "
            ]
          },
          "metadata": {},
          "execution_count": 75
        }
      ]
    },
    {
      "cell_type": "code",
      "source": [
        "plt.figure(figsize = (15,5))\n",
        "sns.barplot(y=df.province.value_counts().sort_values(ascending=False).index,x=df.province.value_counts().sort_values(ascending=False).values ,data = df)\n",
        "plt.xlabel(\"frequency\", fontsize=18)\n",
        "plt.ylabel(\"Province\", fontsize=18)\n",
        "plt.title(\"frequency of cars by province\", fontsize=20)"
      ],
      "metadata": {
        "colab": {
          "base_uri": "https://localhost:8080/",
          "height": 382
        },
        "id": "PahmNQMcQk2E",
        "outputId": "6e5f42cf-6283-4285-8306-45d2632bb472"
      },
      "execution_count": 85,
      "outputs": [
        {
          "output_type": "execute_result",
          "data": {
            "text/plain": [
              "Text(0.5, 1.0, 'frequency of cars by province')"
            ]
          },
          "metadata": {},
          "execution_count": 85
        },
        {
          "output_type": "display_data",
          "data": {
            "text/plain": [
              "<Figure size 1080x360 with 1 Axes>"
            ],
            "image/png": "[encoded data removed]"
          },
          "metadata": {
            "needs_background": "light"
          }
        }
      ]
    },
    {
      "cell_type": "code",
      "source": [
        "plt.figure(figsize = (15,5))\n",
        "sns.barplot(y=df.groupby('make')['combination(L/100Km)'].mean().sort_values(ascending=False).index,x=df.groupby('make')['combination(L/100Km)'].mean().sort_values(ascending=False).values ,data = df)\n",
        "plt.xlabel(\"combination(L/100Km)\", fontsize=18)\n",
        "plt.ylabel(\"make\", fontsize=18)\n",
        "plt.title(\"average of vehicle fuel consumption\", fontsize=20)\n",
        "\n",
        "\n",
        "\n"
      ],
      "metadata": {
        "colab": {
          "base_uri": "https://localhost:8080/",
          "height": 382
        },
        "id": "I8EYhSeZR5kJ",
        "outputId": "92dd9a43-b479-4501-af13-daa29094670d"
      },
      "execution_count": 90,
      "outputs": [
        {
          "output_type": "execute_result",
          "data": {
            "text/plain": [
              "Text(0.5, 1.0, 'average of vehicle fuel consumption')"
            ]
          },
          "metadata": {},
          "execution_count": 90
        },
        {
          "output_type": "display_data",
          "data": {
            "text/plain": [
              "<Figure size 1080x360 with 1 Axes>"
            ],
            "image/png": "[encoded data removed]"
          },
          "metadata": {
            "needs_background": "light"
          }
        }
      ]
    },
    {
      "cell_type": "code",
      "source": [
        "plt.figure(figsize = (15,5))\n",
        "sns.barplot(y=df.groupby('make')['power(kW)'].mean().sort_values(ascending=False).index,x=df.groupby('make')['power(kW)'].mean().sort_values(ascending=False).values ,data = df)\n",
        "plt.xlabel(\"power(kW)\", fontsize=18)\n",
        "plt.ylabel(\"make\", fontsize=18)\n",
        "plt.title(\"average power of vehicle brands\", fontsize=20)\n",
        "\n",
        "\n",
        "\n"
      ],
      "metadata": {
        "colab": {
          "base_uri": "https://localhost:8080/",
          "height": 382
        },
        "id": "XVmzaqMZPd9x",
        "outputId": "2d871729-83b6-4831-f9b7-7265c45ac0e4"
      },
      "execution_count": 98,
      "outputs": [
        {
          "output_type": "execute_result",
          "data": {
            "text/plain": [
              "Text(0.5, 1.0, 'average power of vehicle brands')"
            ]
          },
          "metadata": {},
          "execution_count": 98
        },
        {
          "output_type": "display_data",
          "data": {
            "text/plain": [
              "<Figure size 1080x360 with 1 Axes>"
            ],
            "image/png": "[encoded data removed]"
          },
          "metadata": {
            "needs_background": "light"
          }
        }
      ]
    },
    {
      "cell_type": "code",
      "source": [
        "\n",
        "plt.figure(figsize = (15,5))\n",
        "sns.barplot(y=df.groupby('make').empty_weight.mean().sort_values(ascending=False).index,x=df.groupby('make').empty_weight.mean().sort_values(ascending=False).values ,data = df)\n",
        "plt.xlabel(\"weight\", fontsize=18)\n",
        "plt.ylabel(\"make\", fontsize=18)\n",
        "plt.title(\"average weight of vehicle brands\", fontsize=20)\n",
        "\n",
        "\n",
        "\n"
      ],
      "metadata": {
        "colab": {
          "base_uri": "https://localhost:8080/",
          "height": 382
        },
        "id": "-f4eFf_3Tf7n",
        "outputId": "7207fdc3-6678-4e8c-dace-e0defab566f8"
      },
      "execution_count": 100,
      "outputs": [
        {
          "output_type": "execute_result",
          "data": {
            "text/plain": [
              "Text(0.5, 1.0, 'average weight of vehicle brands')"
            ]
          },
          "metadata": {},
          "execution_count": 100
        },
        {
          "output_type": "display_data",
          "data": {
            "text/plain": [
              "<Figure size 1080x360 with 1 Axes>"
            ],
            "image/png": "[encoded data removed]"
          },
          "metadata": {
            "needs_background": "light"
          }
        }
      ]
    },
    {
      "cell_type": "code",
      "source": [
        ""
      ],
      "metadata": {
        "id": "kDJ078h3UJN3"
      },
      "execution_count": null,
      "outputs": []
    }
  ]
}